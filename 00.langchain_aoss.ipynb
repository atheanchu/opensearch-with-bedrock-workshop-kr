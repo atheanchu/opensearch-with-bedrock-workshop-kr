{
 "cells": [
  {
   "cell_type": "markdown",
   "metadata": {},
   "source": [
    "# Amazon OpenSearch Serverless와 LangChain으로 빠르게 대화형 검색 구현하기"
   ]
  },
  {
   "cell_type": "code",
   "execution_count": null,
   "metadata": {},
   "outputs": [],
   "source": [
    "%pip install -U boto3\n",
    "%pip install --upgrade --quiet  opensearch-py langchain-community"
   ]
  },
  {
   "cell_type": "code",
   "execution_count": 12,
   "metadata": {},
   "outputs": [],
   "source": [
    "from langchain_community.document_loaders import TextLoader\n",
    "from langchain_community.document_loaders import TextLoader\n",
    "from langchain_community.vectorstores import OpenSearchVectorSearch\n",
    "from langchain_text_splitters import CharacterTextSplitter\n",
    "import textwrap\n",
    "import json"
   ]
  },
  {
   "cell_type": "code",
   "execution_count": 2,
   "metadata": {},
   "outputs": [],
   "source": [
    "import boto3\n",
    "\n",
    "session = boto3.Session()\n",
    "aoss_client = session.client(service_name=\"opensearchserverless\")"
   ]
  },
  {
   "cell_type": "code",
   "execution_count": 3,
   "metadata": {},
   "outputs": [],
   "source": [
    "collection_name = \"opensearch-workshop-serverless\"\n",
    "region = \"us-west-2\""
   ]
  },
  {
   "cell_type": "code",
   "execution_count": 13,
   "metadata": {},
   "outputs": [
    {
     "name": "stdout",
     "output_type": "stream",
     "text": [
      "Encryption policy already exists\n"
     ]
    }
   ],
   "source": [
    "# aws opensearchserverless create-security-policy \\\n",
    "#   --name logs-policy \\\n",
    "#   --type encryption --policy \"{\\\"Rules\\\":[{\\\"ResourceType\\\":\\\"collection\\\",\\\"Resource\\\":[\\\"collection\\/logs-application\\\"]}],\\\"AWSOwnedKey\\\":true}\"\n",
    "\n",
    "lsp_response = aoss_client.list_security_policies(\n",
    "    resource=[\n",
    "        \"collection/\" + collection_name,\n",
    "    ],\n",
    "    type=\"encryption\",\n",
    ")\n",
    "\n",
    "if len(response[\"securityPolicySummaries\"]) == 0:\n",
    "    encryption_policy = {\n",
    "        \"Rules\": [\n",
    "            {\n",
    "                \"ResourceType\": \"collection\",\n",
    "                \"Resource\": [\"collection/opensearch-workshop-serverless\"],\n",
    "            }\n",
    "        ],\n",
    "        \"AWSOwnedKey\": True,\n",
    "    }\n",
    "\n",
    "    response = aoss_client.create_security_policy(\n",
    "        name=\"encrypt-policy\", policy=json.dumps(encryption_policy), type=\"encryption\"\n",
    "    )\n",
    "else:\n",
    "    print(\"Encryption policy already exists\")"
   ]
  },
  {
   "cell_type": "code",
   "execution_count": 14,
   "metadata": {},
   "outputs": [
    {
     "name": "stdout",
     "output_type": "stream",
     "text": [
      "Network policy already exists\n"
     ]
    }
   ],
   "source": [
    "# aws opensearchserverless create-security-policy \\\n",
    "#   --name logs-policy \\\n",
    "#   --type network --policy \"[{\\\"Description\\\":\\\"Public access for logs collection\\\",\\\"Rules\\\":[{\\\"ResourceType\\\":\\\"dashboard\\\",\\\"Resource\\\":[\\\"collection\\/logs-application\\\"]},{\\\"ResourceType\\\":\\\"collection\\\",\\\"Resource\\\":[\\\"collection\\/logs-application\\\"]}],\\\"AllowFromPublic\\\":true}]\"\n",
    "\n",
    "lsp_response = aoss_client.list_security_policies(\n",
    "    resource=[\n",
    "        \"collection/\" + collection_name,\n",
    "    ],\n",
    "    type=\"network\",\n",
    ")\n",
    "\n",
    "if len(response[\"securityPolicySummaries\"]) == 0:\n",
    "    network_policy = \"\"\"\n",
    "        [{\"Description\":\"Public access for logs collection\",\"Rules\":[{\"ResourceType\":\"dashboard\",\"Resource\":[\"collection/opensearch-workshop-serverless\"]},{\"ResourceType\":\"collection\",\"Resource\":[\"collection/opensearch-workshop-serverless\"]}],\"AllowFromPublic\":true}]\n",
    "    \"\"\"\n",
    "\n",
    "    response = aoss_client.create_security_policy(\n",
    "        name=\"network-policy\", policy=network_policy, type=\"network\"\n",
    "    )\n",
    "else:\n",
    "    print(\"Network policy already exists\")"
   ]
  },
  {
   "cell_type": "code",
   "execution_count": 15,
   "metadata": {},
   "outputs": [
    {
     "name": "stdout",
     "output_type": "stream",
     "text": [
      "collection opensearch-workshop-serverless already exists\n"
     ]
    },
    {
     "data": {
      "text/plain": [
       "'https://ifhauku7omebeig375z9.us-west-2.aoss.amazonaws.com'"
      ]
     },
     "execution_count": 15,
     "metadata": {},
     "output_type": "execute_result"
    }
   ],
   "source": [
    "import time\n",
    "\n",
    "# if opensearch-workshop-serverless collection already exists, delete it\n",
    "response = aoss_client.list_collections(\n",
    "    collectionFilters={\n",
    "        \"name\": collection_name,\n",
    "    }\n",
    ")\n",
    "\n",
    "if len(response[\"collectionSummaries\"]) == 0:\n",
    "    # response = aoss_client.delete_collection(id=response[\"collectionSummaries\"][0][\"id\"])\n",
    "    response = aoss_client.create_collection(\n",
    "        name=\"opensearch-workshop-serverless\", type=\"VECTORSEARCH\"\n",
    "    )\n",
    "    # Collection이 완전히 지워질 때까지 5초 대기\n",
    "    # time.sleep(5)\n",
    "else:\n",
    "    print(f\"collection {collection_name} already exists\")\n",
    "\n",
    "collection_id = response[\"collectionSummaries\"][0][\"id\"]\n",
    "aoss_host = f\"https://{collection_id}.{region}.aoss.amazonaws.com\"\n",
    "aoss_host"
   ]
  },
  {
   "cell_type": "code",
   "execution_count": null,
   "metadata": {},
   "outputs": [],
   "source": [
    "# Define the access policy\n",
    "access_policy = \"\"\"\n",
    "[{\n",
    "    \"Rules\": [\n",
    "        {\n",
    "            \"ResourceType\": \"collection\",\n",
    "            \"Resource\": [\"collection/opensearch-workshop-serverless\"],\n",
    "            \"Permission\": [\"aoss:*\"]\n",
    "        },\n",
    "        {\n",
    "            \"ResourceType\": \"index\",\n",
    "            \"Resource\": [\"index/*\"],\n",
    "            \"Permission\": [\"aoss:*\"]\n",
    "        }\n",
    "    ]\n",
    "    \"Principal\": {\n",
    "        \"AWS\": [\"*\"]\n",
    "    }\n",
    "}]\n",
    "\"\"\"\n",
    "\n",
    "# Create the access policy\n",
    "response = aoss_client.create_access_policy(\n",
    "    name=\"full-data-access\", type=\"data\", policy=access_policy\n",
    ")\n",
    "\n",
    "# Print the response\n",
    "print(response)"
   ]
  },
  {
   "cell_type": "code",
   "execution_count": null,
   "metadata": {},
   "outputs": [],
   "source": [
    "%%time\n",
    "\n",
    "# Check the collection status\n",
    "while True:\n",
    "    response = aoss_client.list_collections(\n",
    "        collectionFilters={\n",
    "            \"name\": collection_name,\n",
    "        }\n",
    "    )\n",
    "\n",
    "    if response[\"collectionSummaries\"][0][\"status\"] == 'ACTIVE':\n",
    "        print()\n",
    "        print('OpenSearch Collection is created Successfully.')\n",
    "        break\n",
    "    else:\n",
    "        print('-', end='')\n",
    "        time.sleep(5)"
   ]
  },
  {
   "cell_type": "code",
   "execution_count": null,
   "metadata": {},
   "outputs": [],
   "source": [
    "credentials = session.get_credentials()\n",
    "credentials"
   ]
  },
  {
   "cell_type": "code",
   "execution_count": null,
   "metadata": {},
   "outputs": [],
   "source": [
    "from requests_aws4auth import AWS4Auth\n",
    "\n",
    "service = \"aoss\"  # must set the service as 'aoss'\n",
    "awsauth = AWS4Auth(\n",
    "    credentials.access_key,\n",
    "    credentials.secret_key,\n",
    "    \"us-west-2\",\n",
    "    service,\n",
    "    session_token=credentials.token,\n",
    ")"
   ]
  },
  {
   "cell_type": "code",
   "execution_count": null,
   "metadata": {},
   "outputs": [],
   "source": [
    "from langchain_community.document_loaders import CSVLoader\n",
    "from langchain_community.embeddings import BedrockEmbeddings\n",
    "from opensearchpy import RequestsHttpConnection\n",
    "\n",
    "loader = CSVLoader(\"./data/movies.csv\")\n",
    "documents = loader.load()\n",
    "text_splitter = CharacterTextSplitter(chunk_size=1000, chunk_overlap=0)\n",
    "docs = text_splitter.split_documents(documents)\n",
    "\n",
    "\n",
    "len(docs)"
   ]
  },
  {
   "cell_type": "code",
   "execution_count": null,
   "metadata": {},
   "outputs": [],
   "source": [
    "embeddings = BedrockEmbeddings(\n",
    "    model_id=\"amazon.titan-embed-text-v2:0\",\n",
    "    region_name=\"us-west-2\",\n",
    ")\n",
    "\n",
    "# Test embedding models\n",
    "vector = embeddings.embed_query(\"This is a content of the document\")\n",
    "len(vector)"
   ]
  },
  {
   "cell_type": "code",
   "execution_count": null,
   "metadata": {},
   "outputs": [],
   "source": [
    "from opensearchpy import OpenSearch, RequestsHttpConnection, AWSV4SignerAuth\n",
    "import json\n",
    "\n",
    "aos_client = OpenSearch(\n",
    "    hosts=[{\"host\": \"ifhauku7omebeig375z9.us-west-2.aoss.amazonaws.com\", \"port\": 443}],\n",
    "    http_auth=awsauth,\n",
    "    use_ssl=True,\n",
    "    verify_certs=True,\n",
    "    connection_class=RequestsHttpConnection,\n",
    ")\n",
    "\n",
    "request_body = {\"analyzer\": \"nori\", \"text\": \"OpenSearch 워크샵에 오신 고객 여러분 환영합니다.\"}\n",
    "\n",
    "# Send the request to the _analyze endpoint\n",
    "response = aos_client.indices.analyze(body=request_body)\n",
    "\n",
    "# Print the response\n",
    "print(json.dumps(response, indent=4, ensure_ascii=False))"
   ]
  },
  {
   "cell_type": "code",
   "execution_count": null,
   "metadata": {},
   "outputs": [],
   "source": [
    "%%time\n",
    "\n",
    "docsearch = OpenSearchVectorSearch.from_documents(\n",
    "    docs,\n",
    "    embeddings,\n",
    "    opensearch_url=aoss_host,\n",
    "    http_auth=awsauth,\n",
    "    timeout=60,\n",
    "    connection_class=RequestsHttpConnection,\n",
    "    index_name=\"top_movies\",\n",
    "    engine=\"faiss\",\n",
    "    bulk_size=20000,\n",
    ")"
   ]
  },
  {
   "cell_type": "code",
   "execution_count": null,
   "metadata": {},
   "outputs": [],
   "source": [
    "docs = docsearch.similarity_search(\n",
    "    \"건축학개론 줄거리를 알려줘\",\n",
    "    k=10,\n",
    "    search_type=\"script_scoring\",\n",
    ")"
   ]
  },
  {
   "cell_type": "code",
   "execution_count": null,
   "metadata": {},
   "outputs": [],
   "source": [
    "docs"
   ]
  },
  {
   "cell_type": "code",
   "execution_count": null,
   "metadata": {},
   "outputs": [],
   "source": [
    "retriever = docsearch.as_retriever()"
   ]
  },
  {
   "cell_type": "code",
   "execution_count": null,
   "metadata": {},
   "outputs": [],
   "source": [
    "from langchain.chains import ConversationalRetrievalChain\n",
    "from langchain.memory import ConversationBufferWindowMemory\n",
    "from langchain_aws import ChatBedrock\n",
    "\n",
    "model_kwargs = {  # anthropic\n",
    "    \"anthropic_version\": \"bedrock-2023-05-31\",\n",
    "    \"max_tokens\": 2048,\n",
    "    \"temperature\": 0,\n",
    "}\n",
    "\n",
    "llm = ChatBedrock(\n",
    "    model_id=\"anthropic.claude-3-sonnet-20240229-v1:0\",  # 파운데이션 모델 지정\n",
    "    model_kwargs=model_kwargs,\n",
    "    region_name=region,\n",
    "    streaming=True,\n",
    ")  # Claude 속성 구성\n",
    "\n",
    "memory = ConversationBufferWindowMemory(memory_key=\"chat_history\", k=10, return_messages=True)"
   ]
  },
  {
   "cell_type": "code",
   "execution_count": null,
   "metadata": {},
   "outputs": [],
   "source": [
    "from langchain import PromptTemplate\n",
    "\n",
    "prompt_template = \"\"\"\n",
    "\n",
    "\n",
    "Human: Here is the list of movies, inside <movies></movies> XML tags.\n",
    "\n",
    "<movies>\n",
    "{context}\n",
    "</movies>\n",
    "\n",
    "Only using the contex as above, answer the following question with the rules as below:\n",
    "    - Don't insert XML tag such as <context> and </context> when answering.\n",
    "    - Write as much as you can\n",
    "    - Be courteous and polite\n",
    "    - Only answer the question if you can find the answer in the context with certainty.\n",
    "    - Answered in list format\n",
    "    - Always put a short and concise explanation on why you are recommending this movies.\n",
    "\n",
    "You are a best movie reviewer in Korea. Please explain a movies from the list above.\n",
    "\n",
    "Question:\n",
    "{question}\n",
    "\n",
    "If the answer is not in the context, just say \"추천해드릴만한 영화가 없습니다.\"\n",
    "\n",
    "\n",
    "Assistant:\"\"\"\n",
    "\n",
    "PROMPT = PromptTemplate(template=prompt_template, input_variables=[\"context\", \"question\"])"
   ]
  },
  {
   "cell_type": "code",
   "execution_count": null,
   "metadata": {},
   "outputs": [],
   "source": [
    "condense_template = \"\"\"\n",
    "Generate one standalone question based on the instructions.\n",
    "\n",
    "<instrunctions>\n",
    "- You will be given the following conversation between <chat-history> and </chat-history>\n",
    "- You will be given the following follow up question between <follow-up-question> and </follow-up-question>\n",
    "- Standalone question should have summary of the previous questions and answers.\n",
    "</instructions>\n",
    "\n",
    "<chat-history>\n",
    "{chat_history}\n",
    "</chat-history>\n",
    "\n",
    "<follow-up-question>\n",
    "{question}\n",
    "</follow-up-question>\n",
    "\n",
    "standalone question:\n",
    "\"\"\"\n",
    "\n",
    "CONDENSE_QUESTION_PROMPT = PromptTemplate.from_template(condense_template)"
   ]
  },
  {
   "cell_type": "code",
   "execution_count": null,
   "metadata": {},
   "outputs": [],
   "source": [
    "memory.clear()\n",
    "\n",
    "conversation_with_retrieval = ConversationalRetrievalChain.from_llm(\n",
    "    llm,\n",
    "    retriever=retriever,\n",
    "    memory=memory,\n",
    "    combine_docs_chain_kwargs={\"prompt\": PROMPT},\n",
    "    condense_question_prompt=CONDENSE_QUESTION_PROMPT,\n",
    "    # verbose=True,\n",
    ")"
   ]
  },
  {
   "cell_type": "code",
   "execution_count": null,
   "metadata": {},
   "outputs": [],
   "source": [
    "first_question = \"영화 건축학개론의 줄거리가 뭐야?\"\n",
    "chat_response = conversation_with_retrieval.invoke({\"question\": first_question})\n",
    "\n",
    "print(textwrap.fill(chat_response[\"answer\"], 80))"
   ]
  },
  {
   "cell_type": "code",
   "execution_count": null,
   "metadata": {},
   "outputs": [],
   "source": [
    "second_question = \"그 영화 평점은?\"\n",
    "chat_response = conversation_with_retrieval.invoke({\"question\": second_question})\n",
    "\n",
    "print(textwrap.fill(chat_response[\"answer\"], 80))"
   ]
  },
  {
   "cell_type": "code",
   "execution_count": null,
   "metadata": {},
   "outputs": [],
   "source": [
    "third_question = \"비슷한 장르의 다른 영화는?\"\n",
    "chat_response = conversation_with_retrieval.invoke({third_question})\n",
    "\n",
    "print(textwrap.fill(chat_response[\"answer\"], 80))"
   ]
  },
  {
   "cell_type": "code",
   "execution_count": null,
   "metadata": {},
   "outputs": [],
   "source": []
  }
 ],
 "metadata": {
  "kernelspec": {
   "display_name": "opensearch",
   "language": "python",
   "name": "python3"
  },
  "language_info": {
   "codemirror_mode": {
    "name": "ipython",
    "version": 3
   },
   "file_extension": ".py",
   "mimetype": "text/x-python",
   "name": "python",
   "nbconvert_exporter": "python",
   "pygments_lexer": "ipython3",
   "version": "3.11.9"
  }
 },
 "nbformat": 4,
 "nbformat_minor": 2
}
