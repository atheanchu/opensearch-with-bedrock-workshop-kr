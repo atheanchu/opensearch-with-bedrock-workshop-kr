{
 "cells": [
  {
   "cell_type": "markdown",
   "metadata": {},
   "source": [
    "# 시맨틱 검색 - Semantic Search\n"
   ]
  },
  {
   "cell_type": "code",
   "execution_count": 1,
   "metadata": {},
   "outputs": [],
   "source": [
    "!pip install -q boto3\n",
    "!pip install -q requests\n",
    "!pip install -q requests-aws4auth\n",
    "!pip install -q opensearch-py\n",
    "!pip install -q tqdm\n",
    "!pip install -q boto3"
   ]
  },
  {
   "cell_type": "markdown",
   "metadata": {},
   "source": [
    "## 사전준비\n"
   ]
  },
  {
   "cell_type": "markdown",
   "metadata": {},
   "source": [
    "### 데이터 준비 및 탐색\n"
   ]
  },
  {
   "cell_type": "code",
   "execution_count": 2,
   "metadata": {},
   "outputs": [
    {
     "data": {
      "text/html": [
       "<div>\n",
       "<style scoped>\n",
       "    .dataframe tbody tr th:only-of-type {\n",
       "        vertical-align: middle;\n",
       "    }\n",
       "\n",
       "    .dataframe tbody tr th {\n",
       "        vertical-align: top;\n",
       "    }\n",
       "\n",
       "    .dataframe thead th {\n",
       "        text-align: right;\n",
       "    }\n",
       "</style>\n",
       "<table border=\"1\" class=\"dataframe\">\n",
       "  <thead>\n",
       "    <tr style=\"text-align: right;\">\n",
       "      <th></th>\n",
       "      <th>title</th>\n",
       "      <th>genre</th>\n",
       "      <th>year</th>\n",
       "      <th>date</th>\n",
       "      <th>rating</th>\n",
       "      <th>vote_count</th>\n",
       "      <th>plot</th>\n",
       "      <th>main_act</th>\n",
       "      <th>supp_act</th>\n",
       "      <th>page_url</th>\n",
       "      <th>img_url</th>\n",
       "    </tr>\n",
       "  </thead>\n",
       "  <tbody>\n",
       "    <tr>\n",
       "      <th>0</th>\n",
       "      <td>1917</td>\n",
       "      <td>드라마|전쟁</td>\n",
       "      <td>2020</td>\n",
       "      <td>2.19</td>\n",
       "      <td>8.88</td>\n",
       "      <td>5017</td>\n",
       "      <td>제1차 세계대전이 한창인 1917년. 독일군에 의해 모든 통신망이 파괴된 상황 속에...</td>\n",
       "      <td>조지 맥케이|딘-찰스 채프먼</td>\n",
       "      <td>콜린 퍼스|베네딕트 컴버배치|마크 스트롱|앤드류 스캇|리차드 매든|에드리언 스카보로...</td>\n",
       "      <td>https://movie.naver.com/movie/bi/mi/basic.nhn?...</td>\n",
       "      <td>https://movie-phinf.pstatic.net/20200212_161/1...</td>\n",
       "    </tr>\n",
       "    <tr>\n",
       "      <th>1</th>\n",
       "      <td>21 브릿지: 테러 셧다운</td>\n",
       "      <td>범죄|드라마|스릴러</td>\n",
       "      <td>2020</td>\n",
       "      <td>1.01</td>\n",
       "      <td>7.84</td>\n",
       "      <td>579</td>\n",
       "      <td>뉴욕 맨해튼 중심에서 벌어진 경찰 연쇄 살해 사건, 범인을 잡기 위해 베테랑 경찰 ...</td>\n",
       "      <td>채드윅 보스만|J.K. 시몬스|시에나 밀러|테일러 키취</td>\n",
       "      <td>스테판 제임스|빅토리아 카타게나|키스 데이빗|샤이나 라이언|알렉산더 시디그|모로코 ...</td>\n",
       "      <td>https://movie.naver.com/movie/bi/mi/basic.nhn?...</td>\n",
       "      <td>https://movie-phinf.pstatic.net/20191227_205/1...</td>\n",
       "    </tr>\n",
       "    <tr>\n",
       "      <th>2</th>\n",
       "      <td>n번째 이별중</td>\n",
       "      <td>코미디|멜로/로맨스</td>\n",
       "      <td>2020</td>\n",
       "      <td>4.01</td>\n",
       "      <td>6.48</td>\n",
       "      <td>177</td>\n",
       "      <td>여자친구 ‘데비’에게 대차게 차여 충격받은 물리학 천재 ‘스틸먼’. 사랑하는 그녀의...</td>\n",
       "      <td>에이사 버터필드|소피 터너|스카일러 거손도</td>\n",
       "      <td>오브리 레이놀즈|윌 펠츠|질리안 조이|케이든 J. 그레고리</td>\n",
       "      <td>https://movie.naver.com/movie/bi/mi/basic.nhn?...</td>\n",
       "      <td>https://movie-phinf.pstatic.net/20200409_56/15...</td>\n",
       "    </tr>\n",
       "    <tr>\n",
       "      <th>3</th>\n",
       "      <td>가슴 큰 태희</td>\n",
       "      <td>멜로/로맨스</td>\n",
       "      <td>2020</td>\n",
       "      <td>2.27</td>\n",
       "      <td>8.67</td>\n",
       "      <td>3</td>\n",
       "      <td>곧 결혼을 앞둔 예비 신혼 부부 차욱과 민주. 차욱은 직장 후배인 용우네 부부에게 ...</td>\n",
       "      <td>정보없음</td>\n",
       "      <td>정보없음</td>\n",
       "      <td>https://movie.naver.com/movie/bi/mi/basic.nhn?...</td>\n",
       "      <td>https://movie-phinf.pstatic.net/20200211_88/15...</td>\n",
       "    </tr>\n",
       "    <tr>\n",
       "      <th>4</th>\n",
       "      <td>개인교습</td>\n",
       "      <td>멜로/로맨스</td>\n",
       "      <td>2020</td>\n",
       "      <td>3.02</td>\n",
       "      <td>10.00</td>\n",
       "      <td>1</td>\n",
       "      <td>부잣집 프랑스 아가씨 마고에게 첫눈에 반한 발리의 가난한 어부 에카는 그녀에게 피아...</td>\n",
       "      <td>하리 산티카|도르카스 카핀</td>\n",
       "      <td>정보없음</td>\n",
       "      <td>https://movie.naver.com/movie/bi/mi/basic.nhn?...</td>\n",
       "      <td>https://movie-phinf.pstatic.net/20200226_62/15...</td>\n",
       "    </tr>\n",
       "  </tbody>\n",
       "</table>\n",
       "</div>"
      ],
      "text/plain": [
       "            title       genre  year  date  rating  vote_count  \\\n",
       "0            1917      드라마|전쟁  2020  2.19    8.88        5017   \n",
       "1  21 브릿지: 테러 셧다운  범죄|드라마|스릴러  2020  1.01    7.84         579   \n",
       "2         n번째 이별중  코미디|멜로/로맨스  2020  4.01    6.48         177   \n",
       "3         가슴 큰 태희      멜로/로맨스  2020  2.27    8.67           3   \n",
       "4            개인교습      멜로/로맨스  2020  3.02   10.00           1   \n",
       "\n",
       "                                                plot  \\\n",
       "0  제1차 세계대전이 한창인 1917년. 독일군에 의해 모든 통신망이 파괴된 상황 속에...   \n",
       "1  뉴욕 맨해튼 중심에서 벌어진 경찰 연쇄 살해 사건, 범인을 잡기 위해 베테랑 경찰 ...   \n",
       "2  여자친구 ‘데비’에게 대차게 차여 충격받은 물리학 천재 ‘스틸먼’. 사랑하는 그녀의...   \n",
       "3  곧 결혼을 앞둔 예비 신혼 부부 차욱과 민주. 차욱은 직장 후배인 용우네 부부에게 ...   \n",
       "4  부잣집 프랑스 아가씨 마고에게 첫눈에 반한 발리의 가난한 어부 에카는 그녀에게 피아...   \n",
       "\n",
       "                         main_act  \\\n",
       "0                 조지 맥케이|딘-찰스 채프먼   \n",
       "1  채드윅 보스만|J.K. 시몬스|시에나 밀러|테일러 키취   \n",
       "2         에이사 버터필드|소피 터너|스카일러 거손도   \n",
       "3                            정보없음   \n",
       "4                  하리 산티카|도르카스 카핀   \n",
       "\n",
       "                                            supp_act  \\\n",
       "0  콜린 퍼스|베네딕트 컴버배치|마크 스트롱|앤드류 스캇|리차드 매든|에드리언 스카보로...   \n",
       "1  스테판 제임스|빅토리아 카타게나|키스 데이빗|샤이나 라이언|알렉산더 시디그|모로코 ...   \n",
       "2                   오브리 레이놀즈|윌 펠츠|질리안 조이|케이든 J. 그레고리   \n",
       "3                                               정보없음   \n",
       "4                                               정보없음   \n",
       "\n",
       "                                            page_url  \\\n",
       "0  https://movie.naver.com/movie/bi/mi/basic.nhn?...   \n",
       "1  https://movie.naver.com/movie/bi/mi/basic.nhn?...   \n",
       "2  https://movie.naver.com/movie/bi/mi/basic.nhn?...   \n",
       "3  https://movie.naver.com/movie/bi/mi/basic.nhn?...   \n",
       "4  https://movie.naver.com/movie/bi/mi/basic.nhn?...   \n",
       "\n",
       "                                             img_url  \n",
       "0  https://movie-phinf.pstatic.net/20200212_161/1...  \n",
       "1  https://movie-phinf.pstatic.net/20191227_205/1...  \n",
       "2  https://movie-phinf.pstatic.net/20200409_56/15...  \n",
       "3  https://movie-phinf.pstatic.net/20200211_88/15...  \n",
       "4  https://movie-phinf.pstatic.net/20200226_62/15...  "
      ]
     },
     "execution_count": 2,
     "metadata": {},
     "output_type": "execute_result"
    }
   ],
   "source": [
    "import pandas as pd\n",
    "import requests\n",
    "\n",
    "df = pd.read_csv(\"./data/movies.csv\", low_memory=False)\n",
    "df.head(5)"
   ]
  },
  {
   "cell_type": "code",
   "execution_count": 3,
   "metadata": {},
   "outputs": [
    {
     "name": "stdout",
     "output_type": "stream",
     "text": [
      "<class 'pandas.core.frame.DataFrame'>\n",
      "RangeIndex: 11947 entries, 0 to 11946\n",
      "Data columns (total 11 columns):\n",
      " #   Column      Non-Null Count  Dtype  \n",
      "---  ------      --------------  -----  \n",
      " 0   title       11947 non-null  object \n",
      " 1   genre       11947 non-null  object \n",
      " 2   year        11947 non-null  int64  \n",
      " 3   date        11947 non-null  float64\n",
      " 4   rating      11947 non-null  float64\n",
      " 5   vote_count  11947 non-null  int64  \n",
      " 6   plot        11947 non-null  object \n",
      " 7   main_act    11947 non-null  object \n",
      " 8   supp_act    11947 non-null  object \n",
      " 9   page_url    11947 non-null  object \n",
      " 10  img_url     11947 non-null  object \n",
      "dtypes: float64(2), int64(2), object(7)\n",
      "memory usage: 1.0+ MB\n"
     ]
    }
   ],
   "source": [
    "df.info()"
   ]
  },
  {
   "cell_type": "code",
   "execution_count": 4,
   "metadata": {},
   "outputs": [
    {
     "data": {
      "text/html": [
       "<div>\n",
       "<style scoped>\n",
       "    .dataframe tbody tr th:only-of-type {\n",
       "        vertical-align: middle;\n",
       "    }\n",
       "\n",
       "    .dataframe tbody tr th {\n",
       "        vertical-align: top;\n",
       "    }\n",
       "\n",
       "    .dataframe thead th {\n",
       "        text-align: right;\n",
       "    }\n",
       "</style>\n",
       "<table border=\"1\" class=\"dataframe\">\n",
       "  <thead>\n",
       "    <tr style=\"text-align: right;\">\n",
       "      <th></th>\n",
       "      <th>title</th>\n",
       "      <th>genre</th>\n",
       "      <th>year</th>\n",
       "      <th>date</th>\n",
       "      <th>rating</th>\n",
       "      <th>vote_count</th>\n",
       "      <th>text</th>\n",
       "      <th>main_act</th>\n",
       "      <th>supp_act</th>\n",
       "      <th>page_url</th>\n",
       "      <th>img_url</th>\n",
       "    </tr>\n",
       "  </thead>\n",
       "  <tbody>\n",
       "    <tr>\n",
       "      <th>0</th>\n",
       "      <td>1917</td>\n",
       "      <td>드라마|전쟁</td>\n",
       "      <td>2020</td>\n",
       "      <td>2.19</td>\n",
       "      <td>8.88</td>\n",
       "      <td>5017</td>\n",
       "      <td>제1차 세계대전이 한창인 1917년. 독일군에 의해 모든 통신망이 파괴된 상황 속에...</td>\n",
       "      <td>조지 맥케이|딘-찰스 채프먼</td>\n",
       "      <td>콜린 퍼스|베네딕트 컴버배치|마크 스트롱|앤드류 스캇|리차드 매든|에드리언 스카보로...</td>\n",
       "      <td>https://movie.naver.com/movie/bi/mi/basic.nhn?...</td>\n",
       "      <td>https://movie-phinf.pstatic.net/20200212_161/1...</td>\n",
       "    </tr>\n",
       "    <tr>\n",
       "      <th>1</th>\n",
       "      <td>21 브릿지: 테러 셧다운</td>\n",
       "      <td>범죄|드라마|스릴러</td>\n",
       "      <td>2020</td>\n",
       "      <td>1.01</td>\n",
       "      <td>7.84</td>\n",
       "      <td>579</td>\n",
       "      <td>뉴욕 맨해튼 중심에서 벌어진 경찰 연쇄 살해 사건, 범인을 잡기 위해 베테랑 경찰 ...</td>\n",
       "      <td>채드윅 보스만|J.K. 시몬스|시에나 밀러|테일러 키취</td>\n",
       "      <td>스테판 제임스|빅토리아 카타게나|키스 데이빗|샤이나 라이언|알렉산더 시디그|모로코 ...</td>\n",
       "      <td>https://movie.naver.com/movie/bi/mi/basic.nhn?...</td>\n",
       "      <td>https://movie-phinf.pstatic.net/20191227_205/1...</td>\n",
       "    </tr>\n",
       "    <tr>\n",
       "      <th>2</th>\n",
       "      <td>n번째 이별중</td>\n",
       "      <td>코미디|멜로/로맨스</td>\n",
       "      <td>2020</td>\n",
       "      <td>4.01</td>\n",
       "      <td>6.48</td>\n",
       "      <td>177</td>\n",
       "      <td>여자친구 ‘데비’에게 대차게 차여 충격받은 물리학 천재 ‘스틸먼’. 사랑하는 그녀의...</td>\n",
       "      <td>에이사 버터필드|소피 터너|스카일러 거손도</td>\n",
       "      <td>오브리 레이놀즈|윌 펠츠|질리안 조이|케이든 J. 그레고리</td>\n",
       "      <td>https://movie.naver.com/movie/bi/mi/basic.nhn?...</td>\n",
       "      <td>https://movie-phinf.pstatic.net/20200409_56/15...</td>\n",
       "    </tr>\n",
       "    <tr>\n",
       "      <th>3</th>\n",
       "      <td>가슴 큰 태희</td>\n",
       "      <td>멜로/로맨스</td>\n",
       "      <td>2020</td>\n",
       "      <td>2.27</td>\n",
       "      <td>8.67</td>\n",
       "      <td>3</td>\n",
       "      <td>곧 결혼을 앞둔 예비 신혼 부부 차욱과 민주. 차욱은 직장 후배인 용우네 부부에게 ...</td>\n",
       "      <td>정보없음</td>\n",
       "      <td>정보없음</td>\n",
       "      <td>https://movie.naver.com/movie/bi/mi/basic.nhn?...</td>\n",
       "      <td>https://movie-phinf.pstatic.net/20200211_88/15...</td>\n",
       "    </tr>\n",
       "    <tr>\n",
       "      <th>4</th>\n",
       "      <td>개인교습</td>\n",
       "      <td>멜로/로맨스</td>\n",
       "      <td>2020</td>\n",
       "      <td>3.02</td>\n",
       "      <td>10.00</td>\n",
       "      <td>1</td>\n",
       "      <td>부잣집 프랑스 아가씨 마고에게 첫눈에 반한 발리의 가난한 어부 에카는 그녀에게 피아...</td>\n",
       "      <td>하리 산티카|도르카스 카핀</td>\n",
       "      <td>정보없음</td>\n",
       "      <td>https://movie.naver.com/movie/bi/mi/basic.nhn?...</td>\n",
       "      <td>https://movie-phinf.pstatic.net/20200226_62/15...</td>\n",
       "    </tr>\n",
       "  </tbody>\n",
       "</table>\n",
       "</div>"
      ],
      "text/plain": [
       "            title       genre  year  date  rating  vote_count  \\\n",
       "0            1917      드라마|전쟁  2020  2.19    8.88        5017   \n",
       "1  21 브릿지: 테러 셧다운  범죄|드라마|스릴러  2020  1.01    7.84         579   \n",
       "2         n번째 이별중  코미디|멜로/로맨스  2020  4.01    6.48         177   \n",
       "3         가슴 큰 태희      멜로/로맨스  2020  2.27    8.67           3   \n",
       "4            개인교습      멜로/로맨스  2020  3.02   10.00           1   \n",
       "\n",
       "                                                text  \\\n",
       "0  제1차 세계대전이 한창인 1917년. 독일군에 의해 모든 통신망이 파괴된 상황 속에...   \n",
       "1  뉴욕 맨해튼 중심에서 벌어진 경찰 연쇄 살해 사건, 범인을 잡기 위해 베테랑 경찰 ...   \n",
       "2  여자친구 ‘데비’에게 대차게 차여 충격받은 물리학 천재 ‘스틸먼’. 사랑하는 그녀의...   \n",
       "3  곧 결혼을 앞둔 예비 신혼 부부 차욱과 민주. 차욱은 직장 후배인 용우네 부부에게 ...   \n",
       "4  부잣집 프랑스 아가씨 마고에게 첫눈에 반한 발리의 가난한 어부 에카는 그녀에게 피아...   \n",
       "\n",
       "                         main_act  \\\n",
       "0                 조지 맥케이|딘-찰스 채프먼   \n",
       "1  채드윅 보스만|J.K. 시몬스|시에나 밀러|테일러 키취   \n",
       "2         에이사 버터필드|소피 터너|스카일러 거손도   \n",
       "3                            정보없음   \n",
       "4                  하리 산티카|도르카스 카핀   \n",
       "\n",
       "                                            supp_act  \\\n",
       "0  콜린 퍼스|베네딕트 컴버배치|마크 스트롱|앤드류 스캇|리차드 매든|에드리언 스카보로...   \n",
       "1  스테판 제임스|빅토리아 카타게나|키스 데이빗|샤이나 라이언|알렉산더 시디그|모로코 ...   \n",
       "2                   오브리 레이놀즈|윌 펠츠|질리안 조이|케이든 J. 그레고리   \n",
       "3                                               정보없음   \n",
       "4                                               정보없음   \n",
       "\n",
       "                                            page_url  \\\n",
       "0  https://movie.naver.com/movie/bi/mi/basic.nhn?...   \n",
       "1  https://movie.naver.com/movie/bi/mi/basic.nhn?...   \n",
       "2  https://movie.naver.com/movie/bi/mi/basic.nhn?...   \n",
       "3  https://movie.naver.com/movie/bi/mi/basic.nhn?...   \n",
       "4  https://movie.naver.com/movie/bi/mi/basic.nhn?...   \n",
       "\n",
       "                                             img_url  \n",
       "0  https://movie-phinf.pstatic.net/20200212_161/1...  \n",
       "1  https://movie-phinf.pstatic.net/20191227_205/1...  \n",
       "2  https://movie-phinf.pstatic.net/20200409_56/15...  \n",
       "3  https://movie-phinf.pstatic.net/20200211_88/15...  \n",
       "4  https://movie-phinf.pstatic.net/20200226_62/15...  "
      ]
     },
     "execution_count": 4,
     "metadata": {},
     "output_type": "execute_result"
    }
   ],
   "source": [
    "df.rename(columns={\"plot\": \"text\"}, inplace=True)\n",
    "df.head(5)"
   ]
  },
  {
   "cell_type": "markdown",
   "metadata": {},
   "source": [
    "### OpenSearch 도메인에 연결\n"
   ]
  },
  {
   "cell_type": "code",
   "execution_count": 5,
   "metadata": {},
   "outputs": [],
   "source": [
    "# Add system path for utils\n",
    "import sys\n",
    "\n",
    "sys.path.insert(0, \"/Users/jinhwan/Repository/Labs/opensearch-with-bedrock-workshop-kr/utils\")"
   ]
  },
  {
   "cell_type": "code",
   "execution_count": 6,
   "metadata": {},
   "outputs": [],
   "source": [
    "import boto3, json\n",
    "from utils import get_cfn_outputs\n",
    "\n",
    "region_name = \"us-east-1\"\n",
    "\n",
    "cfn = boto3.client(\"cloudformation\", region_name)\n",
    "kms = boto3.client(\"secretsmanager\", region_name)\n",
    "\n",
    "stackname = \"opensearch-workshop\"\n",
    "cfn_outputs = get_cfn_outputs(stackname, cfn)\n",
    "\n",
    "aos_credentials = json.loads(\n",
    "    kms.get_secret_value(SecretId=cfn_outputs[\"OpenSearchSecret\"])[\"SecretString\"]\n",
    ")\n",
    "\n",
    "aos_host = cfn_outputs[\"OpenSearchDomainEndpoint\"]"
   ]
  },
  {
   "cell_type": "code",
   "execution_count": 7,
   "metadata": {},
   "outputs": [],
   "source": [
    "from opensearchpy import OpenSearch, RequestsHttpConnection, AWSV4SignerAuth\n",
    "\n",
    "auth = (aos_credentials[\"username\"], aos_credentials[\"password\"])\n",
    "\n",
    "aos_client = OpenSearch(\n",
    "    hosts=[{\"host\": aos_host, \"port\": 443}],\n",
    "    http_auth=auth,\n",
    "    use_ssl=True,\n",
    "    verify_certs=True,\n",
    "    connection_class=RequestsHttpConnection,\n",
    ")"
   ]
  },
  {
   "cell_type": "markdown",
   "metadata": {},
   "source": [
    "## 데이터 임베딩을 위한 Ingest Pipeline 생성\n"
   ]
  },
  {
   "cell_type": "markdown",
   "metadata": {},
   "source": [
    "모델 아이디 설정\n"
   ]
  },
  {
   "cell_type": "code",
   "execution_count": 8,
   "metadata": {},
   "outputs": [],
   "source": [
    "model_id = \"jK-l048BhWoFUAg8WOdO\""
   ]
  },
  {
   "cell_type": "markdown",
   "metadata": {},
   "source": [
    "인제스트 파이프라인 생성\n"
   ]
  },
  {
   "cell_type": "code",
   "execution_count": 9,
   "metadata": {},
   "outputs": [
    {
     "data": {
      "text/plain": [
       "{'acknowledged': True}"
      ]
     },
     "execution_count": 9,
     "metadata": {},
     "output_type": "execute_result"
    }
   ],
   "source": [
    "pipeline = {\n",
    "    \"description\": \"An neural search pipeline for hotel index - OpenSearch-cohere-060124084807\",\n",
    "    \"processors\": [\n",
    "        {\n",
    "            \"text_embedding\": {\n",
    "                \"model_id\": model_id,\n",
    "                \"field_map\": {\n",
    "                    \"text\": \"vector_field\",\n",
    "                },\n",
    "            }\n",
    "        }\n",
    "    ],\n",
    "}\n",
    "\n",
    "pipeline_id = \"webtoon_embedding_pipeline\"\n",
    "aos_client.ingest.put_pipeline(id=pipeline_id, body=pipeline)"
   ]
  },
  {
   "cell_type": "markdown",
   "metadata": {},
   "source": [
    "인덱스 생성\n"
   ]
  },
  {
   "cell_type": "code",
   "execution_count": 10,
   "metadata": {},
   "outputs": [
    {
     "ename": "RequestError",
     "evalue": "RequestError(400, 'resource_already_exists_exception', 'index [movie_semantic/3YlpqEWlRwqvF6lMa4SgAQ] already exists')",
     "output_type": "error",
     "traceback": [
      "\u001b[0;31m---------------------------------------------------------------------------\u001b[0m",
      "\u001b[0;31mRequestError\u001b[0m                              Traceback (most recent call last)",
      "Cell \u001b[0;32mIn[10], line 55\u001b[0m\n\u001b[1;32m      1\u001b[0m index_name \u001b[38;5;241m=\u001b[39m \u001b[38;5;124m\"\u001b[39m\u001b[38;5;124mmovie_semantic\u001b[39m\u001b[38;5;124m\"\u001b[39m\n\u001b[1;32m      3\u001b[0m movie_semantic \u001b[38;5;241m=\u001b[39m {\n\u001b[1;32m      4\u001b[0m     \u001b[38;5;124m\"\u001b[39m\u001b[38;5;124msettings\u001b[39m\u001b[38;5;124m\"\u001b[39m: {\n\u001b[1;32m      5\u001b[0m         \u001b[38;5;124m\"\u001b[39m\u001b[38;5;124mmax_result_window\u001b[39m\u001b[38;5;124m\"\u001b[39m: \u001b[38;5;241m15000\u001b[39m,\n\u001b[0;32m   (...)\u001b[0m\n\u001b[1;32m     52\u001b[0m     },\n\u001b[1;32m     53\u001b[0m }\n\u001b[0;32m---> 55\u001b[0m \u001b[43maos_client\u001b[49m\u001b[38;5;241;43m.\u001b[39;49m\u001b[43mindices\u001b[49m\u001b[38;5;241;43m.\u001b[39;49m\u001b[43mcreate\u001b[49m\u001b[43m(\u001b[49m\u001b[43mindex\u001b[49m\u001b[38;5;241;43m=\u001b[39;49m\u001b[43mindex_name\u001b[49m\u001b[43m,\u001b[49m\u001b[43m \u001b[49m\u001b[43mbody\u001b[49m\u001b[38;5;241;43m=\u001b[39;49m\u001b[43mmovie_semantic\u001b[49m\u001b[43m)\u001b[49m\n",
      "File \u001b[0;32m/opt/anaconda3/envs/opensearch/lib/python3.11/site-packages/opensearchpy/client/utils.py:180\u001b[0m, in \u001b[0;36mquery_params.<locals>._wrapper.<locals>._wrapped\u001b[0;34m(*args, **kwargs)\u001b[0m\n\u001b[1;32m    177\u001b[0m         \u001b[38;5;28;01mif\u001b[39;00m v \u001b[38;5;129;01mis\u001b[39;00m \u001b[38;5;129;01mnot\u001b[39;00m \u001b[38;5;28;01mNone\u001b[39;00m:\n\u001b[1;32m    178\u001b[0m             params[p] \u001b[38;5;241m=\u001b[39m _escape(v)\n\u001b[0;32m--> 180\u001b[0m \u001b[38;5;28;01mreturn\u001b[39;00m \u001b[43mfunc\u001b[49m\u001b[43m(\u001b[49m\u001b[38;5;241;43m*\u001b[39;49m\u001b[43margs\u001b[49m\u001b[43m,\u001b[49m\u001b[43m \u001b[49m\u001b[43mparams\u001b[49m\u001b[38;5;241;43m=\u001b[39;49m\u001b[43mparams\u001b[49m\u001b[43m,\u001b[49m\u001b[43m \u001b[49m\u001b[43mheaders\u001b[49m\u001b[38;5;241;43m=\u001b[39;49m\u001b[43mheaders\u001b[49m\u001b[43m,\u001b[49m\u001b[43m \u001b[49m\u001b[38;5;241;43m*\u001b[39;49m\u001b[38;5;241;43m*\u001b[39;49m\u001b[43mkwargs\u001b[49m\u001b[43m)\u001b[49m\n",
      "File \u001b[0;32m/opt/anaconda3/envs/opensearch/lib/python3.11/site-packages/opensearchpy/client/indices.py:236\u001b[0m, in \u001b[0;36mIndicesClient.create\u001b[0;34m(self, index, body, params, headers)\u001b[0m\n\u001b[1;32m    233\u001b[0m \u001b[38;5;28;01mif\u001b[39;00m index \u001b[38;5;129;01min\u001b[39;00m SKIP_IN_PATH:\n\u001b[1;32m    234\u001b[0m     \u001b[38;5;28;01mraise\u001b[39;00m \u001b[38;5;167;01mValueError\u001b[39;00m(\u001b[38;5;124m\"\u001b[39m\u001b[38;5;124mEmpty value passed for a required argument \u001b[39m\u001b[38;5;124m'\u001b[39m\u001b[38;5;124mindex\u001b[39m\u001b[38;5;124m'\u001b[39m\u001b[38;5;124m.\u001b[39m\u001b[38;5;124m\"\u001b[39m)\n\u001b[0;32m--> 236\u001b[0m \u001b[38;5;28;01mreturn\u001b[39;00m \u001b[38;5;28;43mself\u001b[39;49m\u001b[38;5;241;43m.\u001b[39;49m\u001b[43mtransport\u001b[49m\u001b[38;5;241;43m.\u001b[39;49m\u001b[43mperform_request\u001b[49m\u001b[43m(\u001b[49m\n\u001b[1;32m    237\u001b[0m \u001b[43m    \u001b[49m\u001b[38;5;124;43m\"\u001b[39;49m\u001b[38;5;124;43mPUT\u001b[39;49m\u001b[38;5;124;43m\"\u001b[39;49m\u001b[43m,\u001b[49m\u001b[43m \u001b[49m\u001b[43m_make_path\u001b[49m\u001b[43m(\u001b[49m\u001b[43mindex\u001b[49m\u001b[43m)\u001b[49m\u001b[43m,\u001b[49m\u001b[43m \u001b[49m\u001b[43mparams\u001b[49m\u001b[38;5;241;43m=\u001b[39;49m\u001b[43mparams\u001b[49m\u001b[43m,\u001b[49m\u001b[43m \u001b[49m\u001b[43mheaders\u001b[49m\u001b[38;5;241;43m=\u001b[39;49m\u001b[43mheaders\u001b[49m\u001b[43m,\u001b[49m\u001b[43m \u001b[49m\u001b[43mbody\u001b[49m\u001b[38;5;241;43m=\u001b[39;49m\u001b[43mbody\u001b[49m\n\u001b[1;32m    238\u001b[0m \u001b[43m\u001b[49m\u001b[43m)\u001b[49m\n",
      "File \u001b[0;32m/opt/anaconda3/envs/opensearch/lib/python3.11/site-packages/opensearchpy/transport.py:455\u001b[0m, in \u001b[0;36mTransport.perform_request\u001b[0;34m(self, method, url, params, body, timeout, ignore, headers)\u001b[0m\n\u001b[1;32m    453\u001b[0m             \u001b[38;5;28;01mraise\u001b[39;00m e\n\u001b[1;32m    454\u001b[0m     \u001b[38;5;28;01melse\u001b[39;00m:\n\u001b[0;32m--> 455\u001b[0m         \u001b[38;5;28;01mraise\u001b[39;00m e\n\u001b[1;32m    457\u001b[0m \u001b[38;5;28;01melse\u001b[39;00m:\n\u001b[1;32m    458\u001b[0m     \u001b[38;5;66;03m# connection didn't fail, confirm its live status\u001b[39;00m\n\u001b[1;32m    459\u001b[0m     \u001b[38;5;28mself\u001b[39m\u001b[38;5;241m.\u001b[39mconnection_pool\u001b[38;5;241m.\u001b[39mmark_live(connection)\n",
      "File \u001b[0;32m/opt/anaconda3/envs/opensearch/lib/python3.11/site-packages/opensearchpy/transport.py:416\u001b[0m, in \u001b[0;36mTransport.perform_request\u001b[0;34m(self, method, url, params, body, timeout, ignore, headers)\u001b[0m\n\u001b[1;32m    413\u001b[0m connection \u001b[38;5;241m=\u001b[39m \u001b[38;5;28mself\u001b[39m\u001b[38;5;241m.\u001b[39mget_connection()\n\u001b[1;32m    415\u001b[0m \u001b[38;5;28;01mtry\u001b[39;00m:\n\u001b[0;32m--> 416\u001b[0m     status, headers_response, data \u001b[38;5;241m=\u001b[39m \u001b[43mconnection\u001b[49m\u001b[38;5;241;43m.\u001b[39;49m\u001b[43mperform_request\u001b[49m\u001b[43m(\u001b[49m\n\u001b[1;32m    417\u001b[0m \u001b[43m        \u001b[49m\u001b[43mmethod\u001b[49m\u001b[43m,\u001b[49m\n\u001b[1;32m    418\u001b[0m \u001b[43m        \u001b[49m\u001b[43murl\u001b[49m\u001b[43m,\u001b[49m\n\u001b[1;32m    419\u001b[0m \u001b[43m        \u001b[49m\u001b[43mparams\u001b[49m\u001b[43m,\u001b[49m\n\u001b[1;32m    420\u001b[0m \u001b[43m        \u001b[49m\u001b[43mbody\u001b[49m\u001b[43m,\u001b[49m\n\u001b[1;32m    421\u001b[0m \u001b[43m        \u001b[49m\u001b[43mheaders\u001b[49m\u001b[38;5;241;43m=\u001b[39;49m\u001b[43mheaders\u001b[49m\u001b[43m,\u001b[49m\n\u001b[1;32m    422\u001b[0m \u001b[43m        \u001b[49m\u001b[43mignore\u001b[49m\u001b[38;5;241;43m=\u001b[39;49m\u001b[43mignore\u001b[49m\u001b[43m,\u001b[49m\n\u001b[1;32m    423\u001b[0m \u001b[43m        \u001b[49m\u001b[43mtimeout\u001b[49m\u001b[38;5;241;43m=\u001b[39;49m\u001b[43mtimeout\u001b[49m\u001b[43m,\u001b[49m\n\u001b[1;32m    424\u001b[0m \u001b[43m    \u001b[49m\u001b[43m)\u001b[49m\n\u001b[1;32m    426\u001b[0m     \u001b[38;5;66;03m# Lowercase all the header names for consistency in accessing them.\u001b[39;00m\n\u001b[1;32m    427\u001b[0m     headers_response \u001b[38;5;241m=\u001b[39m {\n\u001b[1;32m    428\u001b[0m         header\u001b[38;5;241m.\u001b[39mlower(): value \u001b[38;5;28;01mfor\u001b[39;00m header, value \u001b[38;5;129;01min\u001b[39;00m headers_response\u001b[38;5;241m.\u001b[39mitems()\n\u001b[1;32m    429\u001b[0m     }\n",
      "File \u001b[0;32m/opt/anaconda3/envs/opensearch/lib/python3.11/site-packages/opensearchpy/connection/http_requests.py:241\u001b[0m, in \u001b[0;36mRequestsHttpConnection.perform_request\u001b[0;34m(self, method, url, params, body, timeout, allow_redirects, ignore, headers)\u001b[0m\n\u001b[1;32m    228\u001b[0m \u001b[38;5;28;01mif\u001b[39;00m (\n\u001b[1;32m    229\u001b[0m     \u001b[38;5;129;01mnot\u001b[39;00m (\u001b[38;5;241m200\u001b[39m \u001b[38;5;241m<\u001b[39m\u001b[38;5;241m=\u001b[39m response\u001b[38;5;241m.\u001b[39mstatus_code \u001b[38;5;241m<\u001b[39m \u001b[38;5;241m300\u001b[39m)\n\u001b[1;32m    230\u001b[0m     \u001b[38;5;129;01mand\u001b[39;00m response\u001b[38;5;241m.\u001b[39mstatus_code \u001b[38;5;129;01mnot\u001b[39;00m \u001b[38;5;129;01min\u001b[39;00m ignore\n\u001b[1;32m    231\u001b[0m ):\n\u001b[1;32m    232\u001b[0m     \u001b[38;5;28mself\u001b[39m\u001b[38;5;241m.\u001b[39mlog_request_fail(\n\u001b[1;32m    233\u001b[0m         method,\n\u001b[1;32m    234\u001b[0m         url,\n\u001b[0;32m   (...)\u001b[0m\n\u001b[1;32m    239\u001b[0m         raw_data,\n\u001b[1;32m    240\u001b[0m     )\n\u001b[0;32m--> 241\u001b[0m     \u001b[38;5;28;43mself\u001b[39;49m\u001b[38;5;241;43m.\u001b[39;49m\u001b[43m_raise_error\u001b[49m\u001b[43m(\u001b[49m\n\u001b[1;32m    242\u001b[0m \u001b[43m        \u001b[49m\u001b[43mresponse\u001b[49m\u001b[38;5;241;43m.\u001b[39;49m\u001b[43mstatus_code\u001b[49m\u001b[43m,\u001b[49m\n\u001b[1;32m    243\u001b[0m \u001b[43m        \u001b[49m\u001b[43mraw_data\u001b[49m\u001b[43m,\u001b[49m\n\u001b[1;32m    244\u001b[0m \u001b[43m        \u001b[49m\u001b[43mresponse\u001b[49m\u001b[38;5;241;43m.\u001b[39;49m\u001b[43mheaders\u001b[49m\u001b[38;5;241;43m.\u001b[39;49m\u001b[43mget\u001b[49m\u001b[43m(\u001b[49m\u001b[38;5;124;43m\"\u001b[39;49m\u001b[38;5;124;43mContent-Type\u001b[39;49m\u001b[38;5;124;43m\"\u001b[39;49m\u001b[43m)\u001b[49m\u001b[43m,\u001b[49m\n\u001b[1;32m    245\u001b[0m \u001b[43m    \u001b[49m\u001b[43m)\u001b[49m\n\u001b[1;32m    247\u001b[0m \u001b[38;5;28mself\u001b[39m\u001b[38;5;241m.\u001b[39mlog_request_success(\n\u001b[1;32m    248\u001b[0m     method,\n\u001b[1;32m    249\u001b[0m     url,\n\u001b[0;32m   (...)\u001b[0m\n\u001b[1;32m    254\u001b[0m     duration,\n\u001b[1;32m    255\u001b[0m )\n\u001b[1;32m    257\u001b[0m \u001b[38;5;28;01mreturn\u001b[39;00m response\u001b[38;5;241m.\u001b[39mstatus_code, response\u001b[38;5;241m.\u001b[39mheaders, raw_data\n",
      "File \u001b[0;32m/opt/anaconda3/envs/opensearch/lib/python3.11/site-packages/opensearchpy/connection/base.py:315\u001b[0m, in \u001b[0;36mConnection._raise_error\u001b[0;34m(self, status_code, raw_data, content_type)\u001b[0m\n\u001b[1;32m    312\u001b[0m \u001b[38;5;28;01mexcept\u001b[39;00m (\u001b[38;5;167;01mValueError\u001b[39;00m, \u001b[38;5;167;01mTypeError\u001b[39;00m) \u001b[38;5;28;01mas\u001b[39;00m err:\n\u001b[1;32m    313\u001b[0m     logger\u001b[38;5;241m.\u001b[39mwarning(\u001b[38;5;124m\"\u001b[39m\u001b[38;5;124mUndecodable raw error response from server: \u001b[39m\u001b[38;5;132;01m%s\u001b[39;00m\u001b[38;5;124m\"\u001b[39m, err)\n\u001b[0;32m--> 315\u001b[0m \u001b[38;5;28;01mraise\u001b[39;00m HTTP_EXCEPTIONS\u001b[38;5;241m.\u001b[39mget(status_code, TransportError)(\n\u001b[1;32m    316\u001b[0m     status_code, error_message, additional_info\n\u001b[1;32m    317\u001b[0m )\n",
      "\u001b[0;31mRequestError\u001b[0m: RequestError(400, 'resource_already_exists_exception', 'index [movie_semantic/3YlpqEWlRwqvF6lMa4SgAQ] already exists')"
     ]
    }
   ],
   "source": [
    "index_name = \"movie_semantic\"\n",
    "\n",
    "movie_semantic = {\n",
    "    \"settings\": {\n",
    "        \"max_result_window\": 15000,\n",
    "        \"analysis\": {\"analyzer\": {\"analysis-nori\": {\"type\": \"nori\", \"stopwords\": \"_korean_\"}}},\n",
    "        \"index.knn\": True,\n",
    "        \"default_pipeline\": pipeline_id,\n",
    "        \"index.knn.space_type\": \"cosinesimil\",\n",
    "    },\n",
    "    \"mappings\": {\n",
    "        \"properties\": {\n",
    "            \"date\": {\n",
    "                \"type\": \"float\",\n",
    "            },\n",
    "            \"genre\": {\n",
    "                \"type\": \"text\",\n",
    "            },\n",
    "            \"img_url\": {\n",
    "                \"type\": \"text\",\n",
    "                \"fields\": {\"keyword\": {\"type\": \"keyword\", \"ignore_above\": 256}},\n",
    "            },\n",
    "            \"main_act\": {\n",
    "                \"type\": \"text\",\n",
    "                \"fields\": {\"keyword\": {\"type\": \"keyword\", \"ignore_above\": 256}},\n",
    "            },\n",
    "            \"page_url\": {\n",
    "                \"type\": \"text\",\n",
    "                \"fields\": {\"keyword\": {\"type\": \"keyword\", \"ignore_above\": 256}},\n",
    "            },\n",
    "            \"text\": {\n",
    "                \"type\": \"text\",\n",
    "            },\n",
    "            \"rating\": {\"type\": \"float\"},\n",
    "            \"supp_act\": {\n",
    "                \"type\": \"text\",\n",
    "                \"fields\": {\"keyword\": {\"type\": \"keyword\", \"ignore_above\": 256}},\n",
    "            },\n",
    "            \"title\": {\n",
    "                \"type\": \"text\",\n",
    "                \"fields\": {\"keyword\": {\"type\": \"keyword\", \"ignore_above\": 256}},\n",
    "            },\n",
    "            \"vote_count\": {\"type\": \"long\"},\n",
    "            \"year\": {\"type\": \"long\"},\n",
    "            \"vector_field\": {\n",
    "                \"type\": \"knn_vector\",\n",
    "                \"dimension\": 1024,\n",
    "                \"method\": {\"name\": \"hnsw\", \"space_type\": \"l2\", \"engine\": \"faiss\"},\n",
    "                \"store\": True,\n",
    "            },\n",
    "        }\n",
    "    },\n",
    "}\n",
    "\n",
    "aos_client.indices.create(index=index_name, body=movie_semantic)"
   ]
  },
  {
   "cell_type": "markdown",
   "metadata": {},
   "source": [
    "데이터 인제스트\n"
   ]
  },
  {
   "cell_type": "code",
   "execution_count": null,
   "metadata": {},
   "outputs": [],
   "source": [
    "from tqdm import tqdm\n",
    "from opensearchpy import helpers\n",
    "\n",
    "json_data = df.to_json(orient=\"records\", lines=True)\n",
    "docs = json_data.split(\"\\n\")[:-1]  # To remove the last empty line\n",
    "\n",
    "\n",
    "def _generate_data():\n",
    "    for doc in docs:\n",
    "        yield {\"_index\": index_name, \"_source\": doc}\n",
    "\n",
    "\n",
    "succeeded = []\n",
    "failed = []\n",
    "for success, item in helpers.parallel_bulk(\n",
    "    aos_client, actions=_generate_data(), chunk_size=20, thread_count=2, queue_size=2\n",
    "):\n",
    "    if success:\n",
    "        succeeded.append(item)\n",
    "    else:\n",
    "        failed.append(item)"
   ]
  },
  {
   "cell_type": "markdown",
   "metadata": {},
   "source": [
    "잘 저장되었는지 확인\n"
   ]
  },
  {
   "cell_type": "code",
   "execution_count": null,
   "metadata": {},
   "outputs": [],
   "source": [
    "# Refresh the index to make the changes visible\n",
    "aos_client.indices.refresh(index=index_name)\n",
    "\n",
    "count = aos_client.count(index=index_name)\n",
    "print(count)"
   ]
  },
  {
   "cell_type": "markdown",
   "metadata": {},
   "source": [
    "검색 비교\n"
   ]
  },
  {
   "cell_type": "code",
   "execution_count": null,
   "metadata": {},
   "outputs": [],
   "source": [
    "def keyword_search(query_text):\n",
    "    query = {\n",
    "        \"size\": 10,\n",
    "        \"query\": {\n",
    "            \"multi_match\": {\n",
    "                \"query\": query_text,\n",
    "                \"fields\": [\"text\"],\n",
    "            }\n",
    "        },\n",
    "    }\n",
    "\n",
    "    res = aos_client.search(index=index_name, body=query)\n",
    "\n",
    "    query_result = []\n",
    "    for hit in res[\"hits\"][\"hits\"]:\n",
    "        row = [\n",
    "            hit[\"_id\"],\n",
    "            hit[\"_score\"],\n",
    "            hit[\"_source\"][\"title\"],\n",
    "            hit[\"_source\"][\"text\"],\n",
    "            hit[\"_source\"][\"genre\"],\n",
    "            hit[\"_source\"][\"rating\"],\n",
    "        ]\n",
    "        query_result.append(row)\n",
    "\n",
    "    query_result_df = pd.DataFrame(\n",
    "        data=query_result, columns=[\"_id\", \"_score\", \"title\", \"plot\", \"genre\", \"rating\"]\n",
    "    )\n",
    "    display(query_result_df)"
   ]
  },
  {
   "cell_type": "code",
   "execution_count": null,
   "metadata": {},
   "outputs": [],
   "source": [
    "query_text = \"슈퍼맨\""
   ]
  },
  {
   "cell_type": "code",
   "execution_count": null,
   "metadata": {},
   "outputs": [],
   "source": [
    "keyword_search(query_text)"
   ]
  },
  {
   "cell_type": "code",
   "execution_count": null,
   "metadata": {},
   "outputs": [],
   "source": [
    "def semantic_search(query_text):\n",
    "    query = {\n",
    "        \"size\": 10,\n",
    "        \"_source\": {\"excludes\": [\"vector_field\"]},\n",
    "        \"query\": {\n",
    "            \"neural\": {\"vector_field\": {\"query_text\": query_text, \"model_id\": model_id, \"k\": 30}},\n",
    "        },\n",
    "    }\n",
    "\n",
    "    res = aos_client.search(index=index_name, body=query)\n",
    "\n",
    "    query_result = []\n",
    "    for hit in res[\"hits\"][\"hits\"]:\n",
    "        row = [\n",
    "            hit[\"_id\"],\n",
    "            hit[\"_score\"],\n",
    "            hit[\"_source\"][\"title\"],\n",
    "            hit[\"_source\"][\"text\"],\n",
    "            hit[\"_source\"][\"genre\"],\n",
    "            hit[\"_source\"][\"rating\"],\n",
    "        ]\n",
    "        query_result.append(row)\n",
    "\n",
    "    query_result_df = pd.DataFrame(\n",
    "        data=query_result, columns=[\"_id\", \"_score\", \"title\", \"plot\", \"genre\", \"rating\"]\n",
    "    )\n",
    "    display(query_result_df)"
   ]
  },
  {
   "cell_type": "code",
   "execution_count": null,
   "metadata": {},
   "outputs": [],
   "source": [
    "semantic_search(query_text)"
   ]
  },
  {
   "cell_type": "markdown",
   "metadata": {},
   "source": [
    "## Clean Up\n"
   ]
  },
  {
   "cell_type": "code",
   "execution_count": 11,
   "metadata": {},
   "outputs": [
    {
     "data": {
      "text/plain": [
       "{'acknowledged': True}"
      ]
     },
     "execution_count": 11,
     "metadata": {},
     "output_type": "execute_result"
    }
   ],
   "source": [
    "# aos_client.indices.delete(index=index_name)"
   ]
  },
  {
   "cell_type": "code",
   "execution_count": null,
   "metadata": {},
   "outputs": [],
   "source": []
  }
 ],
 "metadata": {
  "kernelspec": {
   "display_name": "opensearch",
   "language": "python",
   "name": "python3"
  },
  "language_info": {
   "codemirror_mode": {
    "name": "ipython",
    "version": 3
   },
   "file_extension": ".py",
   "mimetype": "text/x-python",
   "name": "python",
   "nbconvert_exporter": "python",
   "pygments_lexer": "ipython3",
   "version": "3.11.9"
  }
 },
 "nbformat": 4,
 "nbformat_minor": 2
}
