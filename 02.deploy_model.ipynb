{
 "cells": [
  {
   "cell_type": "code",
   "execution_count": 6,
   "id": "b089dea8-ad6c-49e8-9bca-807b955a826a",
   "metadata": {
    "tags": []
   },
   "outputs": [
    {
     "name": "stdout",
     "output_type": "stream",
     "text": [
      "Note: you may need to restart the kernel to use updated packages.\n"
     ]
    }
   ],
   "source": [
    "%pip install -U --quiet opensearch-py requests"
   ]
  },
  {
   "cell_type": "code",
   "execution_count": 2,
   "id": "be734f49-559a-4600-a0d6-dcd60be9c5f0",
   "metadata": {
    "tags": []
   },
   "outputs": [
    {
     "name": "stdout",
     "output_type": "stream",
     "text": [
      "The IAM role assumed now is: arn:aws:sts::629149101570:assumed-role/opensearch-workshop-NBRole-tQMR4hqwRzQP/SageMaker\n",
      "The IAM role attached to this SageMaker notebook instance is: arn:aws:iam::629149101570:role/opensearch-workshop-NBRole-tQMR4hqwRzQP\n"
     ]
    }
   ],
   "source": [
    "import boto3\n",
    "import botocore\n",
    "\n",
    "# Create a session with boto3\n",
    "session = boto3.Session()\n",
    "\n",
    "# Get the STS client\n",
    "sts_client = session.client(\"sts\")\n",
    "\n",
    "# Get the caller identity\n",
    "caller_identity = sts_client.get_caller_identity()\n",
    "\n",
    "# Get the assumed role ARN\n",
    "assumed_role_arn = caller_identity[\"Arn\"]\n",
    "\n",
    "# Get the role name from the assumed role ARN\n",
    "role_name = assumed_role_arn.split(\"/\")[1]\n",
    "\n",
    "# Get the IAM client\n",
    "iam_client = session.client(\"iam\")\n",
    "\n",
    "# Get the role details\n",
    "try:\n",
    "    role = iam_client.get_role(RoleName=role_name)\n",
    "    iam_role_arn = role[\"Role\"][\"Arn\"]\n",
    "    print(f\"The IAM role assumed now is: {assumed_role_arn}\")\n",
    "    print(f\"The IAM role attached to this SageMaker notebook instance is: {iam_role_arn}\")\n",
    "except botocore.exceptions.ClientError as e:\n",
    "    print(f\"Error: {e}\")"
   ]
  },
  {
   "cell_type": "code",
   "execution_count": 3,
   "id": "978201da-5393-4362-bc84-3a1227c63521",
   "metadata": {
    "tags": []
   },
   "outputs": [
    {
     "data": {
      "text/plain": [
       "'search-opensearch-workshop-nsyuex4f6yzuajrbfdrfxoldo4.us-west-2.es.amazonaws.com'"
      ]
     },
     "execution_count": 3,
     "metadata": {},
     "output_type": "execute_result"
    }
   ],
   "source": [
    "session = boto3.Session()\n",
    "region_name = session.region_name\n",
    "\n",
    "\n",
    "def get_cfn_outputs(stackname, cfn):\n",
    "    outputs = {}\n",
    "    for output in cfn.describe_stacks(StackName=stackname)[\"Stacks\"][0][\"Outputs\"]:\n",
    "        outputs[output[\"OutputKey\"]] = output[\"OutputValue\"]\n",
    "    return outputs\n",
    "\n",
    "\n",
    "import boto3, json\n",
    "\n",
    "cfn = boto3.client(\"cloudformation\", region_name)\n",
    "kms = boto3.client(\"secretsmanager\", region_name)\n",
    "\n",
    "stackname = \"opensearch-workshop\"\n",
    "cfn_outputs = get_cfn_outputs(stackname, cfn)\n",
    "\n",
    "aos_credentials = json.loads(\n",
    "    kms.get_secret_value(SecretId=cfn_outputs[\"OpenSearchSecret\"])[\"SecretString\"]\n",
    ")\n",
    "\n",
    "aos_host = cfn_outputs[\"OpenSearchDomainEndpoint\"]\n",
    "aos_host"
   ]
  },
  {
   "cell_type": "code",
   "execution_count": 7,
   "id": "5090bf6c-4c39-4d40-8675-851284f15325",
   "metadata": {
    "tags": []
   },
   "outputs": [],
   "source": [
    "from opensearchpy import OpenSearch, RequestsHttpConnection, AWSV4SignerAuth\n",
    "import boto3\n",
    "import json\n",
    "\n",
    "credentials = boto3.Session().get_credentials()\n",
    "auth = AWSV4SignerAuth(credentials, region=region_name)\n",
    "\n",
    "aos_client = OpenSearch(\n",
    "    hosts=[{\"host\": aos_host, \"port\": 443}],\n",
    "    http_auth=auth,\n",
    "    use_ssl=True,\n",
    "    verify_certs=True,\n",
    "    connection_class=RequestsHttpConnection,\n",
    "    timeout=600,\n",
    ")"
   ]
  },
  {
   "cell_type": "code",
   "execution_count": 8,
   "id": "16370655-f25d-4e53-bd58-038962af3cb1",
   "metadata": {
    "tags": []
   },
   "outputs": [
    {
     "data": {
      "text/plain": [
       "'https://search-opensearch-workshop-nsyuex4f6yzuajrbfdrfxoldo4.us-west-2.es.amazonaws.com/_plugins/_ml'"
      ]
     },
     "execution_count": 8,
     "metadata": {},
     "output_type": "execute_result"
    }
   ],
   "source": [
    "base_url = \"https://\" + aos_host + \"/_plugins/_ml\"\n",
    "base_url"
   ]
  },
  {
   "cell_type": "code",
   "execution_count": 10,
   "id": "6de17196-7929-40e1-a13d-443e6ede0bb4",
   "metadata": {
    "tags": []
   },
   "outputs": [
    {
     "name": "stdout",
     "output_type": "stream",
     "text": [
      "{\"connector_id\":\"H_aWN5EBASM8WxlK3bAx\"}\n"
     ]
    }
   ],
   "source": [
    "import requests\n",
    "\n",
    "# Bedrock Titan Embeddings G1 - Text Connector 생성\n",
    "\n",
    "connector_payload = {\n",
    "    \"name\": \"Amazon Bedrock Connector: embedding\",\n",
    "    \"description\": \"The connector to bedrock Titan embedding model\",\n",
    "    \"version\": 1,\n",
    "    \"protocol\": \"aws_sigv4\",\n",
    "    \"parameters\": {\n",
    "        \"region\": region_name,\n",
    "        \"service_name\": \"bedrock\",\n",
    "        \"model\": \"amazon.titan-embed-text-v2:0\",\n",
    "    },\n",
    "    \"credential\": {\"roleArn\": iam_role_arn},\n",
    "    \"actions\": [\n",
    "        {\n",
    "            \"action_type\": \"predict\",\n",
    "            \"method\": \"POST\",\n",
    "            \"url\": \"https://bedrock-runtime.${parameters.region}.amazonaws.com/model/${parameters.model}/invoke\",\n",
    "            \"headers\": {\"content-type\": \"application/json\", \"x-amz-content-sha256\": \"required\"},\n",
    "            \"request_body\": '{ \"inputText\": \"${parameters.inputText}\" }',\n",
    "            \"pre_process_function\": \"connector.pre_process.bedrock.embedding\",\n",
    "            \"post_process_function\": \"connector.post_process.bedrock.embedding\",\n",
    "        }\n",
    "    ],\n",
    "}\n",
    "\n",
    "# Send the request\n",
    "response = requests.post(\n",
    "    base_url + \"/connectors/_create\",\n",
    "    auth=auth,\n",
    "    json=connector_payload,\n",
    ")\n",
    "\n",
    "# Print the response\n",
    "print(response.text)"
   ]
  },
  {
   "cell_type": "code",
   "execution_count": 11,
   "id": "b79e2f09-2364-4ba2-919e-a29cb0ae768d",
   "metadata": {
    "tags": []
   },
   "outputs": [
    {
     "data": {
      "text/plain": [
       "'H_aWN5EBASM8WxlK3bAx'"
      ]
     },
     "execution_count": 11,
     "metadata": {},
     "output_type": "execute_result"
    }
   ],
   "source": [
    "obj = json.loads(response.text)\n",
    "connector_id = obj[\"connector_id\"]\n",
    "connector_id"
   ]
  },
  {
   "cell_type": "code",
   "execution_count": 12,
   "id": "e818920b-76c2-4537-8efe-09f7d4a9bae5",
   "metadata": {
    "tags": []
   },
   "outputs": [
    {
     "name": "stdout",
     "output_type": "stream",
     "text": [
      "{\"model_group_id\":\"IPaXN5EBASM8WxlKQLCx\",\"status\":\"CREATED\"}\n"
     ]
    }
   ],
   "source": [
    "register_model_group_payload = {\n",
    "    \"name\": \"Bedrock Models for titan text v2\",\n",
    "    \"description\": \"This is a model group for Amazon Bedrock remote model\",\n",
    "}\n",
    "\n",
    "# Send the request\n",
    "response = requests.post(\n",
    "    base_url + \"/model_groups/_register\",\n",
    "    auth=auth,\n",
    "    json=register_model_group_payload,\n",
    ")\n",
    "\n",
    "# Print the response\n",
    "print(response.text)"
   ]
  },
  {
   "cell_type": "code",
   "execution_count": 13,
   "id": "5792da27-92ae-494f-96be-9bbca076a315",
   "metadata": {
    "tags": []
   },
   "outputs": [
    {
     "data": {
      "text/plain": [
       "'IPaXN5EBASM8WxlKQLCx'"
      ]
     },
     "execution_count": 13,
     "metadata": {},
     "output_type": "execute_result"
    }
   ],
   "source": [
    "obj = json.loads(response.text)\n",
    "model_group_id = obj[\"model_group_id\"]\n",
    "model_group_id"
   ]
  },
  {
   "cell_type": "code",
   "execution_count": 14,
   "id": "a3e22f67-dfdf-4795-8278-3d2904017d89",
   "metadata": {
    "tags": []
   },
   "outputs": [
    {
     "name": "stdout",
     "output_type": "stream",
     "text": [
      "{\"task_id\":\"IfagN5EBASM8WxlKNbBj\",\"status\":\"CREATED\",\"model_id\":\"IvagN5EBASM8WxlKNbB8\"}\n"
     ]
    }
   ],
   "source": [
    "register_model_payload = {\n",
    "    \"name\": \"Bedrock text embedding model\",\n",
    "    \"function_name\": \"remote\",\n",
    "    \"model_group_id\": model_group_id,\n",
    "    \"description\": \"This is Bedrock Titan Embeddings V2 - Text model\",\n",
    "    \"connector_id\": connector_id,\n",
    "}\n",
    "\n",
    "# Send the request\n",
    "response = requests.post(\n",
    "    base_url + \"/models/_register\",\n",
    "    auth=auth,\n",
    "    json=register_model_payload,\n",
    ")\n",
    "\n",
    "# Print the response\n",
    "print(response.text)"
   ]
  },
  {
   "cell_type": "code",
   "execution_count": 15,
   "id": "84a5feed-0216-4abc-a0a3-75e0ebf98e6c",
   "metadata": {
    "tags": []
   },
   "outputs": [
    {
     "name": "stdout",
     "output_type": "stream",
     "text": [
      "IvagN5EBASM8WxlKNbB8\n"
     ]
    }
   ],
   "source": [
    "obj = json.loads(response.text)\n",
    "model_id = obj[\"model_id\"]\n",
    "print(model_id)"
   ]
  },
  {
   "cell_type": "code",
   "execution_count": 16,
   "id": "7822edaf-64c8-459c-99ba-0df7e0de62d0",
   "metadata": {
    "tags": []
   },
   "outputs": [
    {
     "name": "stdout",
     "output_type": "stream",
     "text": [
      "{\"task_id\":\"I_agN5EBASM8WxlKdrAm\",\"task_type\":\"DEPLOY_MODEL\",\"status\":\"COMPLETED\"}\n"
     ]
    }
   ],
   "source": [
    "deploy_model_payload = {}\n",
    "\n",
    "# Send the request\n",
    "response = requests.post(\n",
    "    base_url + \"/models/\" + model_id + \"/_deploy\",\n",
    "    auth=auth,\n",
    "    json=deploy_model_payload,\n",
    ")\n",
    "\n",
    "# Print the response\n",
    "print(response.text)"
   ]
  },
  {
   "cell_type": "code",
   "execution_count": 17,
   "id": "cf704f40-33af-4e65-a9e7-180c29efede1",
   "metadata": {
    "tags": []
   },
   "outputs": [
    {
     "data": {
      "text/plain": [
       "1024"
      ]
     },
     "execution_count": 17,
     "metadata": {},
     "output_type": "execute_result"
    }
   ],
   "source": [
    "predict_model_payload = {\"parameters\": {\"inputText\": \"hello goodbye\"}}\n",
    "\n",
    "# Send the request\n",
    "response = requests.post(\n",
    "    base_url + \"/models/\" + model_id + \"/_predict\",\n",
    "    auth=auth,\n",
    "    json=predict_model_payload,\n",
    ")\n",
    "\n",
    "# Print the response\n",
    "len(response.json()[\"inference_results\"][0][\"output\"][0][\"data\"])"
   ]
  },
  {
   "cell_type": "code",
   "execution_count": null,
   "id": "cef7cbb3-79e0-4c7e-bae5-79b15e68b06e",
   "metadata": {},
   "outputs": [],
   "source": [
    "%store model_id"
   ]
  }
 ],
 "metadata": {
  "kernelspec": {
   "display_name": "conda_python3",
   "language": "python",
   "name": "conda_python3"
  },
  "language_info": {
   "codemirror_mode": {
    "name": "ipython",
    "version": 3
   },
   "file_extension": ".py",
   "mimetype": "text/x-python",
   "name": "python",
   "nbconvert_exporter": "python",
   "pygments_lexer": "ipython3",
   "version": "3.10.14"
  }
 },
 "nbformat": 4,
 "nbformat_minor": 5
}
