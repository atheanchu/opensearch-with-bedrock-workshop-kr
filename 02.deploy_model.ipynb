{
 "cells": [
  {
   "cell_type": "markdown",
   "id": "29dc1508",
   "metadata": {},
   "source": [
    "# Amazon OpenSearch Service에 Model(Remote Connector) 배포하기"
   ]
  },
  {
   "cell_type": "markdown",
   "id": "bcc846fd",
   "metadata": {},
   "source": [
    "패키지를 설치합니다."
   ]
  },
  {
   "cell_type": "code",
   "execution_count": null,
   "id": "b089dea8-ad6c-49e8-9bca-807b955a826a",
   "metadata": {
    "tags": []
   },
   "outputs": [],
   "source": [
    "%pip install -U --quiet opensearch-py requests\n",
    "%pip install -q boto3\n",
    "%pip install -q requests\n",
    "%pip install -q requests-aws4auth\n",
    "%pip install -q opensearch-py\n",
    "%pip install -q tqdm\n",
    "%pip install -q boto3"
   ]
  },
  {
   "cell_type": "markdown",
   "id": "3e9f5f76",
   "metadata": {},
   "source": [
    "SageMaker Notebook에 Attach된 IAM Role을 확인합니다. 중요한 것은 코드를 실행할 때 Assume된 Role이 아닌 실제 SageMaker에 Attach된 IAM Role을 확인해야 한다는 것입니다. "
   ]
  },
  {
   "cell_type": "code",
   "execution_count": null,
   "id": "be734f49-559a-4600-a0d6-dcd60be9c5f0",
   "metadata": {
    "tags": []
   },
   "outputs": [],
   "source": [
    "import boto3\n",
    "import botocore\n",
    "\n",
    "# Create a session with boto3\n",
    "session = boto3.Session()\n",
    "\n",
    "# Get the STS client\n",
    "sts_client = session.client(\"sts\")\n",
    "\n",
    "# Get the caller identity\n",
    "caller_identity = sts_client.get_caller_identity()\n",
    "\n",
    "# Get the assumed role ARN\n",
    "assumed_role_arn = caller_identity[\"Arn\"]\n",
    "\n",
    "# Get the role name from the assumed role ARN\n",
    "role_name = assumed_role_arn.split(\"/\")[1]\n",
    "\n",
    "# Get the IAM client\n",
    "iam_client = session.client(\"iam\")\n",
    "\n",
    "is_user = False\n",
    "\n",
    "# Get the role details\n",
    "try:\n",
    "    role = iam_client.get_role(RoleName=role_name)\n",
    "    iam_role_arn = role[\"Role\"][\"Arn\"]\n",
    "\n",
    "    print(f\"The IAM role assumed now is: {assumed_role_arn}\")\n",
    "    print(f\"The IAM role attached to this SageMaker notebook instance is: {iam_role_arn}\")\n",
    "except botocore.exceptions.ClientError as e:\n",
    "    print(f\"Error: {e}\")"
   ]
  },
  {
   "cell_type": "markdown",
   "id": "5f2f0363",
   "metadata": {},
   "source": [
    "Opensearch에 연결할 정보를 설정합니다."
   ]
  },
  {
   "cell_type": "code",
   "execution_count": null,
   "id": "978201da-5393-4362-bc84-3a1227c63521",
   "metadata": {
    "tags": []
   },
   "outputs": [],
   "source": [
    "session = boto3.Session()\n",
    "region_name = session.region_name\n",
    "\n",
    "\n",
    "def get_cfn_outputs(stackname, cfn):\n",
    "    outputs = {}\n",
    "    for output in cfn.describe_stacks(StackName=stackname)[\"Stacks\"][0][\"Outputs\"]:\n",
    "        outputs[output[\"OutputKey\"]] = output[\"OutputValue\"]\n",
    "    return outputs\n",
    "\n",
    "\n",
    "import boto3, json\n",
    "\n",
    "cfn = boto3.client(\"cloudformation\", region_name)\n",
    "kms = boto3.client(\"secretsmanager\", region_name)\n",
    "\n",
    "stackname = \"opensearch-workshop\"\n",
    "cfn_outputs = get_cfn_outputs(stackname, cfn)\n",
    "\n",
    "aos_credentials = json.loads(\n",
    "    kms.get_secret_value(SecretId=cfn_outputs[\"OpenSearchSecret\"])[\"SecretString\"]\n",
    ")\n",
    "\n",
    "aos_host = cfn_outputs[\"OpenSearchDomainEndpoint\"]\n",
    "aos_host"
   ]
  },
  {
   "cell_type": "markdown",
   "id": "e4e555f5",
   "metadata": {},
   "source": [
    "Opensearch에 연결합니다."
   ]
  },
  {
   "cell_type": "code",
   "execution_count": null,
   "id": "5090bf6c-4c39-4d40-8675-851284f15325",
   "metadata": {
    "tags": []
   },
   "outputs": [],
   "source": [
    "from opensearchpy import OpenSearch, RequestsHttpConnection, AWSV4SignerAuth\n",
    "import boto3\n",
    "import json\n",
    "\n",
    "auth = (aos_credentials[\"username\"], aos_credentials[\"password\"])\n",
    "\n",
    "aos_client = OpenSearch(\n",
    "    hosts=[{\"host\": aos_host, \"port\": 443}],\n",
    "    http_auth=auth,\n",
    "    use_ssl=True,\n",
    "    verify_certs=True,\n",
    "    connection_class=RequestsHttpConnection,\n",
    "    timeout=600,\n",
    ")"
   ]
  },
  {
   "cell_type": "markdown",
   "id": "cc4d71c1",
   "metadata": {},
   "source": [
    "# IAM Role에 OpenSearch의 ml_full_access 권한 부여하기"
   ]
  },
  {
   "cell_type": "markdown",
   "id": "d196f247",
   "metadata": {},
   "source": [
    "OpenSearch에 Model을 배포하기 위해서는 ml_full_access 권한이 필요합니다. 이를 위해서는 ml_full_access Role에 모델 배포 요청 Request를 Sign할 IAM Role ARN을 맵핑해주어야 합니다. \n",
    "\n",
    "먼저 ml_full_access의 Role Mapping을 확인합니다."
   ]
  },
  {
   "cell_type": "code",
   "execution_count": null,
   "id": "9f440d7f",
   "metadata": {},
   "outputs": [],
   "source": [
    "import requests\n",
    "\n",
    "security_url = \"https://\" + aos_host + \"/_plugins/_security/api/rolesmapping/ml_full_access\"\n",
    "\n",
    "auth = (aos_credentials[\"username\"], aos_credentials[\"password\"])\n",
    "\n",
    "create_role_mapping_body = {\"users\": [iam_role_arn]}\n",
    "\n",
    "response = requests.get(\n",
    "    security_url,\n",
    "    auth=auth,\n",
    "    # json=connector_payload,\n",
    ")\n",
    "\n",
    "json.loads(response.text)"
   ]
  },
  {
   "cell_type": "markdown",
   "id": "504b8145",
   "metadata": {},
   "source": [
    "현재 오직 `master` 사용자만이 ml_full_access 권한을 가지고 있을 것입니다. 여기에 `iam_role_arn`에 저장된 현재 IAM Role ARN을 추가해줍니다. "
   ]
  },
  {
   "cell_type": "code",
   "execution_count": null,
   "id": "76bfa8d5",
   "metadata": {},
   "outputs": [],
   "source": [
    "if is_user is True:\n",
    "    # User ARN일 경우\n",
    "    create_role_mapping_body = {\"users\": [\"master\", iam_role_arn]}\n",
    "else:\n",
    "    # IAM Role ARN일 경우\n",
    "    create_role_mapping_body = {\n",
    "        \"users\": [\"master\"],\n",
    "        \"backend_roles\": [iam_role_arn],\n",
    "    }\n",
    "\n",
    "response = requests.put(\n",
    "    security_url,\n",
    "    auth=auth,\n",
    "    json=create_role_mapping_body,\n",
    ")\n",
    "\n",
    "json.loads(response.text)"
   ]
  },
  {
   "cell_type": "markdown",
   "id": "1c0bcba8",
   "metadata": {},
   "source": [
    "Role Mapping이 잘 되었는지 확인합니다."
   ]
  },
  {
   "cell_type": "code",
   "execution_count": null,
   "id": "bc922593",
   "metadata": {},
   "outputs": [],
   "source": [
    "response = requests.get(\n",
    "    security_url,\n",
    "    auth=auth,\n",
    "    # json=connector_payload,\n",
    ")\n",
    "\n",
    "json.loads(response.text)"
   ]
  },
  {
   "cell_type": "markdown",
   "id": "0309d8ba",
   "metadata": {},
   "source": [
    "모델 커넥터를 생성하는 요청을 보낼 때는 커넥터의 권한을 OpenSearch에게 넘겨줄 수 있는 PassRole 권한이 필요합니다. 하지만 OpenSearch의 Internal User(master)는 IAM 사용자가 아니므로 해당 권한을 설정할 수 없습니다. 따라서 credentials 정보를 `iam_role_arn`에 저장된 IAM Role의 정보로 변경합니다."
   ]
  },
  {
   "cell_type": "markdown",
   "id": "4b62c146",
   "metadata": {},
   "source": [
    "# 임베딩 원격 모델 배포하기"
   ]
  },
  {
   "cell_type": "code",
   "execution_count": null,
   "id": "16370655-f25d-4e53-bd58-038962af3cb1",
   "metadata": {
    "tags": []
   },
   "outputs": [],
   "source": [
    "credentials = boto3.Session().get_credentials()\n",
    "auth = AWSV4SignerAuth(credentials, region=region_name)"
   ]
  },
  {
   "cell_type": "markdown",
   "id": "24b4b189",
   "metadata": {},
   "source": [
    "모델 커넥터 생성 요청을 위한 Base URL을 설정합니다. "
   ]
  },
  {
   "cell_type": "code",
   "execution_count": null,
   "id": "fb5439b6",
   "metadata": {},
   "outputs": [],
   "source": [
    "base_url = \"https://\" + aos_host + \"/_plugins/_ml\"\n",
    "base_url"
   ]
  },
  {
   "cell_type": "markdown",
   "id": "970a9f06",
   "metadata": {},
   "source": [
    "원격 모델 커넥터를 생성합니다."
   ]
  },
  {
   "cell_type": "code",
   "execution_count": null,
   "id": "6de17196-7929-40e1-a13d-443e6ede0bb4",
   "metadata": {
    "tags": []
   },
   "outputs": [],
   "source": [
    "import requests\n",
    "\n",
    "# Bedrock Titan Embeddings G1 - Text Connector 생성\n",
    "\n",
    "connector_payload = {\n",
    "    \"name\": \"Amazon Bedrock Connector: embedding\",\n",
    "    \"description\": \"The connector to bedrock Titan embedding model\",\n",
    "    \"version\": 1,\n",
    "    \"protocol\": \"aws_sigv4\",\n",
    "    \"parameters\": {\n",
    "        \"region\": region_name,\n",
    "        \"service_name\": \"bedrock\",\n",
    "        \"model\": \"amazon.titan-embed-text-v2:0\",\n",
    "    },\n",
    "    \"credential\": {\"roleArn\": iam_role_arn},\n",
    "    \"actions\": [\n",
    "        {\n",
    "            \"action_type\": \"predict\",\n",
    "            \"method\": \"POST\",\n",
    "            \"url\": \"https://bedrock-runtime.${parameters.region}.amazonaws.com/model/${parameters.model}/invoke\",\n",
    "            \"headers\": {\"content-type\": \"application/json\", \"x-amz-content-sha256\": \"required\"},\n",
    "            \"request_body\": '{ \"inputText\": \"${parameters.inputText}\" }',\n",
    "            \"pre_process_function\": \"connector.pre_process.bedrock.embedding\",\n",
    "            \"post_process_function\": \"connector.post_process.bedrock.embedding\",\n",
    "        }\n",
    "    ],\n",
    "}\n",
    "\n",
    "# Send the request\n",
    "response = requests.post(\n",
    "    base_url + \"/connectors/_create\",\n",
    "    auth=auth,\n",
    "    json=connector_payload,\n",
    ")\n",
    "\n",
    "# Print the response\n",
    "print(response.text)"
   ]
  },
  {
   "cell_type": "code",
   "execution_count": null,
   "id": "b79e2f09-2364-4ba2-919e-a29cb0ae768d",
   "metadata": {
    "tags": []
   },
   "outputs": [],
   "source": [
    "obj = json.loads(response.text)\n",
    "connector_id = obj[\"connector_id\"]\n",
    "connector_id"
   ]
  },
  {
   "cell_type": "markdown",
   "id": "a8539e52",
   "metadata": {},
   "source": [
    "원격 모델을 위한 모델 그룹을 생성합니다."
   ]
  },
  {
   "cell_type": "code",
   "execution_count": null,
   "id": "e818920b-76c2-4537-8efe-09f7d4a9bae5",
   "metadata": {
    "tags": []
   },
   "outputs": [],
   "source": [
    "register_model_group_payload = {\n",
    "    \"name\": \"Bedrock Models for titan text v2\",\n",
    "    \"description\": \"This is a model group for Amazon Bedrock remote model\",\n",
    "}\n",
    "\n",
    "# Send the request\n",
    "response = requests.post(\n",
    "    base_url + \"/model_groups/_register\",\n",
    "    auth=auth,\n",
    "    json=register_model_group_payload,\n",
    ")\n",
    "\n",
    "# Print the response\n",
    "print(response.text)"
   ]
  },
  {
   "cell_type": "code",
   "execution_count": null,
   "id": "5792da27-92ae-494f-96be-9bbca076a315",
   "metadata": {
    "tags": []
   },
   "outputs": [],
   "source": [
    "obj = json.loads(response.text)\n",
    "model_group_id = obj[\"model_group_id\"]\n",
    "model_group_id"
   ]
  },
  {
   "cell_type": "markdown",
   "id": "5112d7bb",
   "metadata": {},
   "source": [
    "앞서 생성한 커넥터와 모델 그룹을 사용하여 모델을 등록합니다."
   ]
  },
  {
   "cell_type": "code",
   "execution_count": null,
   "id": "a3e22f67-dfdf-4795-8278-3d2904017d89",
   "metadata": {
    "tags": []
   },
   "outputs": [],
   "source": [
    "register_model_payload = {\n",
    "    \"name\": \"Bedrock text embedding model\",\n",
    "    \"function_name\": \"remote\",\n",
    "    \"model_group_id\": model_group_id,\n",
    "    \"description\": \"This is Bedrock Titan Embeddings V2 - Text model\",\n",
    "    \"connector_id\": connector_id,\n",
    "}\n",
    "\n",
    "# Send the request\n",
    "response = requests.post(\n",
    "    base_url + \"/models/_register\",\n",
    "    auth=auth,\n",
    "    json=register_model_payload,\n",
    ")\n",
    "\n",
    "# Print the response\n",
    "print(response.text)"
   ]
  },
  {
   "cell_type": "code",
   "execution_count": null,
   "id": "84a5feed-0216-4abc-a0a3-75e0ebf98e6c",
   "metadata": {
    "tags": []
   },
   "outputs": [],
   "source": [
    "obj = json.loads(response.text)\n",
    "model_id = obj[\"model_id\"]\n",
    "print(model_id)"
   ]
  },
  {
   "cell_type": "markdown",
   "id": "adf5dd39",
   "metadata": {},
   "source": [
    "앞서 등록한 모델을 배포합니다."
   ]
  },
  {
   "cell_type": "code",
   "execution_count": null,
   "id": "7822edaf-64c8-459c-99ba-0df7e0de62d0",
   "metadata": {
    "tags": []
   },
   "outputs": [],
   "source": [
    "deploy_model_payload = {}\n",
    "\n",
    "# Send the request\n",
    "response = requests.post(\n",
    "    base_url + \"/models/\" + model_id + \"/_deploy\",\n",
    "    auth=auth,\n",
    "    json=deploy_model_payload,\n",
    ")\n",
    "\n",
    "# Print the response\n",
    "print(response.text)"
   ]
  },
  {
   "cell_type": "markdown",
   "id": "45cfae81",
   "metadata": {},
   "source": [
    "모델이 잘 배포되었는지 테스트해봅니다."
   ]
  },
  {
   "cell_type": "code",
   "execution_count": null,
   "id": "cf704f40-33af-4e65-a9e7-180c29efede1",
   "metadata": {
    "tags": []
   },
   "outputs": [],
   "source": [
    "predict_model_payload = {\"parameters\": {\"inputText\": \"hello goodbye\"}}\n",
    "\n",
    "# Send the request\n",
    "response = requests.post(\n",
    "    base_url + \"/models/\" + model_id + \"/_predict\",\n",
    "    auth=auth,\n",
    "    json=predict_model_payload,\n",
    ")\n",
    "\n",
    "# Print the response\n",
    "len(response.json()[\"inference_results\"][0][\"output\"][0][\"data\"])"
   ]
  },
  {
   "cell_type": "markdown",
   "id": "e8f89755",
   "metadata": {},
   "source": [
    "이후 테스트에 사용하기 위해 모델 아이디를 저장합니다."
   ]
  },
  {
   "cell_type": "code",
   "execution_count": null,
   "id": "cef7cbb3-79e0-4c7e-bae5-79b15e68b06e",
   "metadata": {},
   "outputs": [],
   "source": [
    "%store model_id"
   ]
  }
 ],
 "metadata": {
  "kernelspec": {
   "display_name": "opensearch-workhop",
   "language": "python",
   "name": "python3"
  },
  "language_info": {
   "codemirror_mode": {
    "name": "ipython",
    "version": 3
   },
   "file_extension": ".py",
   "mimetype": "text/x-python",
   "name": "python",
   "nbconvert_exporter": "python",
   "pygments_lexer": "ipython3",
   "version": "3.11.9"
  }
 },
 "nbformat": 4,
 "nbformat_minor": 5
}
